{
  "nbformat": 4,
  "nbformat_minor": 0,
  "metadata": {
    "colab": {
      "name": "ML Lesson 1.ipynb",
      "version": "0.3.2",
      "provenance": [],
      "collapsed_sections": []
    },
    "kernelspec": {
      "name": "python3",
      "display_name": "Python 3"
    }
  },
  "cells": [
    {
      "metadata": {
        "id": "vorcHE3ETOw9",
        "colab_type": "code",
        "colab": {}
      },
      "cell_type": "code",
      "source": [
        "!pip install git+https://github.com/fastai/fastai@2e1ccb58121dc648751e2109fc0fbf6925aa8887"
      ],
      "execution_count": 0,
      "outputs": []
    },
    {
      "metadata": {
        "id": "smjCzxD-R6rr",
        "colab_type": "code",
        "colab": {}
      },
      "cell_type": "code",
      "source": [
        "%load_ext autoreload\n",
        "%autoreload 2\n",
        "\n",
        "%matplotlib inline"
      ],
      "execution_count": 0,
      "outputs": []
    },
    {
      "metadata": {
        "id": "uVGlfhVMSP-k",
        "colab_type": "code",
        "colab": {}
      },
      "cell_type": "code",
      "source": [
        "from fastai.imports import *\n",
        "from fastai.structured import *"
      ],
      "execution_count": 0,
      "outputs": []
    },
    {
      "metadata": {
        "id": "vvWJDj_Oop2B",
        "colab_type": "code",
        "colab": {}
      },
      "cell_type": "code",
      "source": [
        "from pandas_summary import DataFrameSummary\n",
        "from sklearn.ensemble import RandomForestRegressor, RandomForestClassifier\n",
        "from IPython.display import display\n",
        "from sklearn import metrics"
      ],
      "execution_count": 0,
      "outputs": []
    },
    {
      "metadata": {
        "id": "zZPc48zRpIVF",
        "colab_type": "code",
        "colab": {}
      },
      "cell_type": "code",
      "source": [
        "#Load the driver helper and mount\n",
        "from google.colab import drive #permite usar archivos de drive\n",
        "\n",
        "#This will prompt for authorization\n",
        "drive.mount('/content/gdrive')"
      ],
      "execution_count": 0,
      "outputs": []
    },
    {
      "metadata": {
        "id": "Sv4rUPWysA9A",
        "colab_type": "code",
        "colab": {}
      },
      "cell_type": "code",
      "source": [
        "#lists the content of your google drive\n",
        "!ls gdrive/'My Drive'/'Lesson 1'"
      ],
      "execution_count": 0,
      "outputs": []
    },
    {
      "metadata": {
        "id": "kZv3X39ZPR5S",
        "colab_type": "code",
        "colab": {}
      },
      "cell_type": "code",
      "source": [
        "!ls"
      ],
      "execution_count": 0,
      "outputs": []
    },
    {
      "metadata": {
        "id": "DR_Evd2ns8HV",
        "colab_type": "code",
        "colab": {}
      },
      "cell_type": "code",
      "source": [
        "!head gdrive/'My Drive'/'Lesson 1'/Train.csv"
      ],
      "execution_count": 0,
      "outputs": []
    },
    {
      "metadata": {
        "id": "Bkj64-NESULp",
        "colab_type": "code",
        "colab": {}
      },
      "cell_type": "code",
      "source": [
        "PATH=\"gdrive/My Drive/Lesson 1/\""
      ],
      "execution_count": 0,
      "outputs": []
    },
    {
      "metadata": {
        "colab_type": "code",
        "id": "t3i4xgu7uIs7",
        "colab": {}
      },
      "cell_type": "code",
      "source": [
        "df_raw = pd.read_csv(f'{PATH}Train.csv', low_memory=False, parse_dates=['saledate'])"
      ],
      "execution_count": 0,
      "outputs": []
    },
    {
      "metadata": {
        "id": "n3dooVtk2hmt",
        "colab_type": "code",
        "colab": {
          "base_uri": "https://localhost:8080/",
          "height": 1024
        },
        "outputId": "6e5d9b9e-366a-4112-9bed-2fd02423f70c"
      },
      "cell_type": "code",
      "source": [
        "df_raw.info()"
      ],
      "execution_count": 11,
      "outputs": [
        {
          "output_type": "stream",
          "text": [
            "<class 'pandas.core.frame.DataFrame'>\n",
            "RangeIndex: 401125 entries, 0 to 401124\n",
            "Data columns (total 53 columns):\n",
            "SalesID                     401125 non-null int64\n",
            "SalePrice                   401125 non-null int64\n",
            "MachineID                   401125 non-null int64\n",
            "ModelID                     401125 non-null int64\n",
            "datasource                  401125 non-null int64\n",
            "auctioneerID                380989 non-null float64\n",
            "YearMade                    401125 non-null int64\n",
            "MachineHoursCurrentMeter    142765 non-null float64\n",
            "UsageBand                   69639 non-null object\n",
            "saledate                    401125 non-null datetime64[ns]\n",
            "fiModelDesc                 401125 non-null object\n",
            "fiBaseModel                 401125 non-null object\n",
            "fiSecondaryDesc             263934 non-null object\n",
            "fiModelSeries               56908 non-null object\n",
            "fiModelDescriptor           71919 non-null object\n",
            "ProductSize                 190350 non-null object\n",
            "fiProductClassDesc          401125 non-null object\n",
            "state                       401125 non-null object\n",
            "ProductGroup                401125 non-null object\n",
            "ProductGroupDesc            401125 non-null object\n",
            "Drive_System                104361 non-null object\n",
            "Enclosure                   400800 non-null object\n",
            "Forks                       192077 non-null object\n",
            "Pad_Type                    79134 non-null object\n",
            "Ride_Control                148606 non-null object\n",
            "Stick                       79134 non-null object\n",
            "Transmission                183230 non-null object\n",
            "Turbocharged                79134 non-null object\n",
            "Blade_Extension             25219 non-null object\n",
            "Blade_Width                 25219 non-null object\n",
            "Enclosure_Type              25219 non-null object\n",
            "Engine_Horsepower           25219 non-null object\n",
            "Hydraulics                  320570 non-null object\n",
            "Pushblock                   25219 non-null object\n",
            "Ripper                      104137 non-null object\n",
            "Scarifier                   25230 non-null object\n",
            "Tip_Control                 25219 non-null object\n",
            "Tire_Size                   94718 non-null object\n",
            "Coupler                     213952 non-null object\n",
            "Coupler_System              43458 non-null object\n",
            "Grouser_Tracks              43362 non-null object\n",
            "Hydraulics_Flow             43362 non-null object\n",
            "Track_Type                  99153 non-null object\n",
            "Undercarriage_Pad_Width     99872 non-null object\n",
            "Stick_Length                99218 non-null object\n",
            "Thumb                       99288 non-null object\n",
            "Pattern_Changer             99218 non-null object\n",
            "Grouser_Type                99153 non-null object\n",
            "Backhoe_Mounting            78672 non-null object\n",
            "Blade_Type                  79833 non-null object\n",
            "Travel_Controls             79834 non-null object\n",
            "Differential_Type           69411 non-null object\n",
            "Steering_Controls           69369 non-null object\n",
            "dtypes: datetime64[ns](1), float64(2), int64(6), object(44)\n",
            "memory usage: 162.2+ MB\n"
          ],
          "name": "stdout"
        }
      ]
    },
    {
      "metadata": {
        "id": "rFBiwwyjPgrJ",
        "colab_type": "code",
        "colab": {}
      },
      "cell_type": "code",
      "source": [
        "df_raw.SalePrice = np.log(df_raw.SalePrice)\n",
        "\n",
        "add_datepart(df_raw, 'saledate')    # la función add_datepart  crea nuevas columnas, cada una con una parte del campo original de tipo fecha\n"
      ],
      "execution_count": 0,
      "outputs": []
    },
    {
      "metadata": {
        "id": "QThJTwtf3jTR",
        "colab_type": "code",
        "colab": {
          "base_uri": "https://localhost:8080/",
          "height": 330
        },
        "outputId": "370dc8dd-5750-461e-b204-49aef1040740"
      },
      "cell_type": "code",
      "source": [
        "df_raw.columns"
      ],
      "execution_count": 13,
      "outputs": [
        {
          "output_type": "execute_result",
          "data": {
            "text/plain": [
              "Index(['SalesID', 'SalePrice', 'MachineID', 'ModelID', 'datasource',\n",
              "       'auctioneerID', 'YearMade', 'MachineHoursCurrentMeter', 'UsageBand',\n",
              "       'fiModelDesc', 'fiBaseModel', 'fiSecondaryDesc', 'fiModelSeries',\n",
              "       'fiModelDescriptor', 'ProductSize', 'fiProductClassDesc', 'state',\n",
              "       'ProductGroup', 'ProductGroupDesc', 'Drive_System', 'Enclosure',\n",
              "       'Forks', 'Pad_Type', 'Ride_Control', 'Stick', 'Transmission',\n",
              "       'Turbocharged', 'Blade_Extension', 'Blade_Width', 'Enclosure_Type',\n",
              "       'Engine_Horsepower', 'Hydraulics', 'Pushblock', 'Ripper', 'Scarifier',\n",
              "       'Tip_Control', 'Tire_Size', 'Coupler', 'Coupler_System',\n",
              "       'Grouser_Tracks', 'Hydraulics_Flow', 'Track_Type',\n",
              "       'Undercarriage_Pad_Width', 'Stick_Length', 'Thumb', 'Pattern_Changer',\n",
              "       'Grouser_Type', 'Backhoe_Mounting', 'Blade_Type', 'Travel_Controls',\n",
              "       'Differential_Type', 'Steering_Controls', 'saleYear', 'saleMonth',\n",
              "       'saleWeek', 'saleDay', 'saleDayofweek', 'saleDayofyear',\n",
              "       'saleIs_month_end', 'saleIs_month_start', 'saleIs_quarter_end',\n",
              "       'saleIs_quarter_start', 'saleIs_year_end', 'saleIs_year_start',\n",
              "       'saleElapsed'],\n",
              "      dtype='object')"
            ]
          },
          "metadata": {
            "tags": []
          },
          "execution_count": 13
        }
      ]
    },
    {
      "metadata": {
        "id": "TDyDrXIwPgj5",
        "colab_type": "code",
        "colab": {}
      },
      "cell_type": "code",
      "source": [
        "train_cats(df_raw)\n"
      ],
      "execution_count": 0,
      "outputs": []
    },
    {
      "metadata": {
        "id": "E_LhxFVG38G8",
        "colab_type": "code",
        "colab": {
          "base_uri": "https://localhost:8080/",
          "height": 34
        },
        "outputId": "c65cd074-64b0-4cc1-e5b9-4f1a52b8dfbc"
      },
      "cell_type": "code",
      "source": [
        "df_raw.UsageBand.cat.categories"
      ],
      "execution_count": 15,
      "outputs": [
        {
          "output_type": "execute_result",
          "data": {
            "text/plain": [
              "Index(['High', 'Low', 'Medium'], dtype='object')"
            ]
          },
          "metadata": {
            "tags": []
          },
          "execution_count": 15
        }
      ]
    },
    {
      "metadata": {
        "id": "XqfocgU238wZ",
        "colab_type": "code",
        "colab": {}
      },
      "cell_type": "code",
      "source": [
        "df_raw.UsageBand.cat.set_categories(['High', 'Medium', 'Low'], ordered=True, inplace=True)\n",
        "df_raw.UsageBand = df_raw.UsageBand.cat.codes\n",
        "os.makedirs('tmp', exist_ok=True)\n",
        "df_raw.to_feather('tmp/bulldozers-raw')\n",
        "import feather\n",
        "df_raw = feather.read_dataframe('tmp/bulldozers-raw')\n"
      ],
      "execution_count": 0,
      "outputs": []
    },
    {
      "metadata": {
        "id": "bwbRvPHJ7Cs6",
        "colab_type": "code",
        "colab": {}
      },
      "cell_type": "code",
      "source": [
        "df, y, nas = proc_df(df_raw, 'SalePrice')"
      ],
      "execution_count": 0,
      "outputs": []
    },
    {
      "metadata": {
        "id": "LGnWRCTm7Fco",
        "colab_type": "code",
        "colab": {
          "base_uri": "https://localhost:8080/",
          "height": 89
        },
        "outputId": "71844ad4-ad3e-4e3c-e273-1f6822cf6c02"
      },
      "cell_type": "code",
      "source": [
        "m = RandomForestRegressor(n_jobs=-1)\n",
        "m.fit(df, y)\n",
        "m.score(df,y)"
      ],
      "execution_count": 20,
      "outputs": [
        {
          "output_type": "stream",
          "text": [
            "/usr/local/lib/python3.6/dist-packages/sklearn/ensemble/forest.py:246: FutureWarning: The default value of n_estimators will change from 10 in version 0.20 to 100 in 0.22.\n",
            "  \"10 in version 0.20 to 100 in 0.22.\", FutureWarning)\n"
          ],
          "name": "stderr"
        },
        {
          "output_type": "execute_result",
          "data": {
            "text/plain": [
              "0.9830601685729056"
            ]
          },
          "metadata": {
            "tags": []
          },
          "execution_count": 20
        }
      ]
    },
    {
      "metadata": {
        "id": "4gwdUGOmCBRc",
        "colab_type": "code",
        "colab": {}
      },
      "cell_type": "code",
      "source": [
        ""
      ],
      "execution_count": 0,
      "outputs": []
    },
    {
      "metadata": {
        "id": "VLm4zRFGCBaq",
        "colab_type": "code",
        "colab": {}
      },
      "cell_type": "code",
      "source": [
        ""
      ],
      "execution_count": 0,
      "outputs": []
    },
    {
      "metadata": {
        "id": "RptDxHnoCBf3",
        "colab_type": "code",
        "colab": {}
      },
      "cell_type": "code",
      "source": [
        ""
      ],
      "execution_count": 0,
      "outputs": []
    },
    {
      "metadata": {
        "id": "XCuFJitlCBWM",
        "colab_type": "code",
        "colab": {}
      },
      "cell_type": "code",
      "source": [
        ""
      ],
      "execution_count": 0,
      "outputs": []
    },
    {
      "metadata": {
        "id": "ZadP0CYvCBK_",
        "colab_type": "code",
        "colab": {}
      },
      "cell_type": "code",
      "source": [
        ""
      ],
      "execution_count": 0,
      "outputs": []
    },
    {
      "metadata": {
        "id": "UdhwGesI3ms6",
        "colab_type": "code",
        "colab": {
          "base_uri": "https://localhost:8080/",
          "height": 34
        },
        "outputId": "f3f44a60-7cfc-4001-e256-2fadfe263386"
      },
      "cell_type": "code",
      "source": [
        "#df_trn, y_trn, nas = proc_df(df_raw, 'SalePrice')\n",
        "\n",
        "def split_vals(a,n): \n",
        "  return a[:n], a[n:]\n",
        "\n",
        "n_valid = 12000 # igual al tamaño del test data set de Kaggle\n",
        "n_trn = len(df_trn)-n_valid\n",
        "raw_train, raw_valid = split_vals(df_raw, n_trn)\n",
        "X_train, X_valid = split_vals(df_trn, n_trn)\n",
        "y_train, y_valid = split_vals(y_trn, n_trn)"
      ],
      "execution_count": 22,
      "outputs": [
        {
          "output_type": "execute_result",
          "data": {
            "text/plain": [
              "((389125, 66), (389125,), (12000, 66))"
            ]
          },
          "metadata": {
            "tags": []
          },
          "execution_count": 22
        }
      ]
    },
    {
      "metadata": {
        "id": "ISG3jj_bPgun",
        "colab_type": "code",
        "colab": {}
      },
      "cell_type": "code",
      "source": [
        "# Definimos algunas funciones utiles para nuestra revision de datos\n",
        "\n",
        "def rmse(x,y): \n",
        "  return math.sqrt(((x-y)**2).mean())            #definimos una función que calcule el RMSE\n",
        "\n",
        "def print_score(m):                                           #definimos una función para que imprima rmse y score de entrenamiento y validación\n",
        "    res = [\"--rmse train: \", rmse(m.predict(X_train), y_train),  \"--rmse valid: \",rmse(m.predict(X_valid), y_valid),\n",
        "                \"--m.score train:\", m.score(X_train, y_train), \"--m.score valid: \", m.score(X_valid, y_valid)]\n",
        "    if hasattr(m, 'oob_score_'): \n",
        "      res.append (\"obb_score: \")\n",
        "      res.append(m.oob_score_)\n",
        "    print(res)\n",
        "    \n",
        "def display_all(df):\n",
        "    with pd.option_context(\"display.max_rows\", 1000, \"display.max_columns\", 1000): \n",
        "        display(df)"
      ],
      "execution_count": 0,
      "outputs": []
    },
    {
      "metadata": {
        "id": "Zh2RH-orPgyO",
        "colab_type": "code",
        "colab": {}
      },
      "cell_type": "code",
      "source": [
        "df_raw        #revisamos los datos"
      ],
      "execution_count": 0,
      "outputs": []
    },
    {
      "metadata": {
        "colab_type": "code",
        "outputId": "45927f38-902d-4927-a4ac-329a37ac723e",
        "id": "KbWaGWhvFZP0",
        "colab": {
          "base_uri": "https://localhost:8080/",
          "height": 124
        }
      },
      "cell_type": "code",
      "source": [
        "m = RandomForestRegressor(n_jobs=-1)\n",
        "%time m.fit(X_train, y_train)\n",
        "print_score(m)"
      ],
      "execution_count": 0,
      "outputs": [
        {
          "output_type": "stream",
          "text": [
            "/usr/local/lib/python3.6/dist-packages/sklearn/ensemble/forest.py:246: FutureWarning: The default value of n_estimators will change from 10 in version 0.20 to 100 in 0.22.\n",
            "  \"10 in version 0.20 to 100 in 0.22.\", FutureWarning)\n"
          ],
          "name": "stderr"
        },
        {
          "output_type": "stream",
          "text": [
            "CPU times: user 1min 46s, sys: 124 ms, total: 1min 46s\n",
            "Wall time: 55 s\n",
            "['--rmse train: ', 0.09067076663590509, '--rmse valid: ', 0.2513205365624304, '--m.score train:', 0.9828181706368858, '--m.score valid: ', 0.8872013425853322]\n"
          ],
          "name": "stdout"
        }
      ]
    }
  ]
}