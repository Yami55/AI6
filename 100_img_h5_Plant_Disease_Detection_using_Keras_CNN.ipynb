{
  "nbformat": 4,
  "nbformat_minor": 0,
  "metadata": {
    "colab": {
      "name": "100 img/h5-Plant Disease Detection using Keras CNN.ipynb",
      "version": "0.3.2",
      "provenance": [],
      "machine_shape": "hm",
      "include_colab_link": true
    },
    "kernelspec": {
      "name": "python3",
      "display_name": "Python 3"
    },
    "accelerator": "GPU"
  },
  "cells": [
    {
      "cell_type": "markdown",
      "metadata": {
        "id": "view-in-github",
        "colab_type": "text"
      },
      "source": [
        "<a href=\"https://colab.research.google.com/github/dfdavila/AI6/blob/master/100_img_h5_Plant_Disease_Detection_using_Keras_CNN.ipynb\" target=\"_parent\"><img src=\"https://colab.research.google.com/assets/colab-badge.svg\" alt=\"Open In Colab\"/></a>"
      ]
    },
    {
      "cell_type": "code",
      "metadata": {
        "id": "2wJEfWWIWgK9",
        "colab_type": "code",
        "outputId": "e51752f3-ac21-4cd5-bb80-4090f745d41e",
        "colab": {
          "base_uri": "https://localhost:8080/",
          "height": 54
        }
      },
      "source": [
        "from google.colab import drive #permite usar archivos de drive\n",
        "\n",
        "#This will prompt for authorization\n",
        "drive.mount('/content/gdrive')"
      ],
      "execution_count": 1,
      "outputs": [
        {
          "output_type": "stream",
          "text": [
            "Drive already mounted at /content/gdrive; to attempt to forcibly remount, call drive.mount(\"/content/gdrive\", force_remount=True).\n"
          ],
          "name": "stdout"
        }
      ]
    },
    {
      "cell_type": "code",
      "metadata": {
        "id": "EvPn1HJszK4F",
        "colab_type": "code",
        "outputId": "f48e02de-3855-49bb-e9d2-c8d1048a876b",
        "colab": {
          "base_uri": "https://localhost:8080/",
          "height": 34
        }
      },
      "source": [
        "import numpy as np\n",
        "import pickle\n",
        "import cv2\n",
        "from os import listdir\n",
        "from sklearn.preprocessing import LabelBinarizer\n",
        "from keras.models import Sequential\n",
        "from keras.layers.normalization import BatchNormalization\n",
        "from keras.layers.convolutional import Conv2D\n",
        "from keras.layers.convolutional import MaxPooling2D\n",
        "from keras.layers.core import Activation, Flatten, Dropout, Dense\n",
        "from keras import backend as K\n",
        "from keras.preprocessing.image import ImageDataGenerator\n",
        "from keras.optimizers import Adam\n",
        "from keras.preprocessing import image\n",
        "from keras.preprocessing.image import img_to_array\n",
        "from sklearn.preprocessing import MultiLabelBinarizer\n",
        "from sklearn.model_selection import train_test_split\n",
        "import matplotlib.pyplot as plt"
      ],
      "execution_count": 2,
      "outputs": [
        {
          "output_type": "stream",
          "text": [
            "Using TensorFlow backend.\n"
          ],
          "name": "stderr"
        }
      ]
    },
    {
      "cell_type": "code",
      "metadata": {
        "id": "GO00fm5jO1tp",
        "colab_type": "code",
        "outputId": "ce071bc4-b5fd-4b8f-cb1d-ff1478d18c49",
        "colab": {
          "base_uri": "https://localhost:8080/",
          "height": 34
        }
      },
      "source": [
        "import os\n",
        "os.listdir()"
      ],
      "execution_count": 3,
      "outputs": [
        {
          "output_type": "execute_result",
          "data": {
            "text/plain": [
              "['.config', 'gdrive', 'sample_data']"
            ]
          },
          "metadata": {
            "tags": []
          },
          "execution_count": 3
        }
      ]
    },
    {
      "cell_type": "code",
      "metadata": {
        "id": "ZRK4JT0IzMuV",
        "colab_type": "code",
        "colab": {}
      },
      "source": [
        "EPOCHS = 25\n",
        "INIT_LR = 1e-3\n",
        "BS = 32\n",
        "default_image_size = tuple((256, 256))\n",
        "image_size = 0\n",
        "directory_root = '/content/gdrive/My Drive/Datasets/PlantVillage'\n",
        "width=256\n",
        "height=256\n",
        "depth=3"
      ],
      "execution_count": 0,
      "outputs": []
    },
    {
      "cell_type": "code",
      "metadata": {
        "id": "DUGxih11KSxY",
        "colab_type": "code",
        "colab": {}
      },
      "source": [
        "#Function to convert images to array\n",
        "\n",
        "def convert_image_to_array(image_dir):\n",
        "    try:\n",
        "        image = cv2.imread(image_dir)\n",
        "        if image is not None :\n",
        "            image = cv2.resize(image, default_image_size)   \n",
        "            return img_to_array(image)\n",
        "        else :\n",
        "            return np.array([])\n",
        "    except Exception as e:\n",
        "        print(f\"Error : {e}\")\n",
        "        return None"
      ],
      "execution_count": 0,
      "outputs": []
    },
    {
      "cell_type": "markdown",
      "metadata": {
        "id": "PoPn8BCMa3BM",
        "colab_type": "text"
      },
      "source": [
        "**Fetch images from directory**"
      ]
    },
    {
      "cell_type": "code",
      "metadata": {
        "id": "JsZmzpaUzQxL",
        "colab_type": "code",
        "outputId": "c0954437-9301-46e2-dc42-fc1d09e540a4",
        "colab": {
          "base_uri": "https://localhost:8080/",
          "height": 1000
        }
      },
      "source": [
        "image_list, label_list = [], []\n",
        "try:\n",
        "    print(\"[INFO] Loading images ...\")\n",
        "    root_dir = listdir(directory_root)\n",
        "    for directory in root_dir :\n",
        "        # remove .DS_Store from list\n",
        "        if directory == \".DS_Store\" :\n",
        "            root_dir.remove(directory)\n",
        "\n",
        "    for plant_folder in root_dir :\n",
        "        plant_disease_folder_list = listdir(f\"{directory_root}/{plant_folder}\")\n",
        "        \n",
        "        for disease_folder in plant_disease_folder_list :\n",
        "            # remove .DS_Store from list\n",
        "            if disease_folder == \".DS_Store\" :\n",
        "                plant_disease_folder_list.remove(disease_folder)\n",
        "\n",
        "        for plant_disease_folder in plant_disease_folder_list:\n",
        "            print(f\"[INFO] Processing {plant_disease_folder} ...\")\n",
        "            plant_disease_image_list = listdir(f\"{directory_root}/{plant_folder}/{plant_disease_folder}/\")\n",
        "                \n",
        "            for single_plant_disease_image in plant_disease_image_list :\n",
        "                if single_plant_disease_image == \".DS_Store\" :\n",
        "                    plant_disease_image_list.remove(single_plant_disease_image)\n",
        "\n",
        "            for image in plant_disease_image_list[:100]:\n",
        "                image_directory = f\"{directory_root}/{plant_folder}/{plant_disease_folder}/{image}\"\n",
        "                if image_directory.endswith(\".jpg\") == True or image_directory.endswith(\".JPG\") == True:\n",
        "                    image_list.append(convert_image_to_array(image_directory))\n",
        "                    label_list.append(plant_disease_folder)\n",
        "    print(\"[INFO] Image loading completed\")  \n",
        "except Exception as e:\n",
        "    print(f\"Error : {e}\")"
      ],
      "execution_count": 6,
      "outputs": [
        {
          "output_type": "stream",
          "text": [
            "[INFO] Loading images ...\n",
            "[INFO] Processing background ...\n",
            "[INFO] Processing Peach___healthy ...\n",
            "[INFO] Processing Potato___Late_blight ...\n",
            "[INFO] Processing Grape___Black_rot ...\n",
            "[INFO] Processing Tomato___Target_Spot ...\n",
            "[INFO] Processing Corn_(maize)___healthy ...\n",
            "[INFO] Processing Blueberry___healthy ...\n",
            "[INFO] Processing Potato___Early_blight ...\n",
            "[INFO] Processing Strawberry___healthy ...\n",
            "[INFO] Processing Grape___Leaf_blight_(Isariopsis_Leaf_Spot) ...\n",
            "[INFO] Processing Tomato___Bacterial_spot ...\n",
            "[INFO] Processing Tomato___Leaf_Mold ...\n",
            "[INFO] Processing Orange___Haunglongbing_(Citrus_greening) ...\n",
            "[INFO] Processing Pepper,_bell___healthy ...\n",
            "[INFO] Processing Tomato___Tomato_mosaic_virus ...\n",
            "[INFO] Processing Tomato___Late_blight ...\n",
            "[INFO] Processing Cherry_(including_sour)___Powdery_mildew ...\n",
            "[INFO] Processing Grape___healthy ...\n",
            "[INFO] Processing Apple___Cedar_apple_rust ...\n",
            "[INFO] Processing Cherry_(including_sour)___healthy ...\n",
            "[INFO] Processing Grape___Esca_(Black_Measles) ...\n",
            "[INFO] Processing Tomato___Early_blight ...\n",
            "[INFO] Processing Tomato___Tomato_Yellow_Leaf_Curl_Virus ...\n",
            "[INFO] Processing Apple___Apple_scab ...\n",
            "[INFO] Processing Tomato___healthy ...\n",
            "[INFO] Processing Corn_(maize)___Common_rust_ ...\n",
            "[INFO] Processing Tomato___Spider_mites Two-spotted_spider_mite ...\n",
            "[INFO] Processing Raspberry___healthy ...\n",
            "[INFO] Processing Corn_(maize)___Northern_Leaf_Blight ...\n",
            "[INFO] Processing Soybean___healthy ...\n",
            "[INFO] Processing Pepper,_bell___Bacterial_spot ...\n",
            "[INFO] Processing Corn_(maize)___Cercospora_leaf_spot Gray_leaf_spot ...\n",
            "[INFO] Processing Apple___healthy ...\n",
            "[INFO] Processing Squash___Powdery_mildew ...\n",
            "[INFO] Processing Potato___healthy ...\n",
            "[INFO] Processing Strawberry___Leaf_scorch ...\n",
            "[INFO] Processing Peach___Bacterial_spot ...\n",
            "[INFO] Processing Tomato___Septoria_leaf_spot ...\n",
            "[INFO] Processing Apple___Black_rot ...\n",
            "[INFO] Processing Potato___Early_blight ...\n",
            "[INFO] Processing Corn_(maize)___healthy ...\n",
            "[INFO] Processing Tomato___Target_Spot ...\n",
            "[INFO] Processing Blueberry___healthy ...\n",
            "[INFO] Processing Strawberry___healthy ...\n",
            "[INFO] Processing Peach___healthy ...\n",
            "[INFO] Processing Tomato___Late_blight ...\n",
            "[INFO] Processing Potato___Late_blight ...\n",
            "[INFO] Processing Grape___Black_rot ...\n",
            "[INFO] Processing Grape___Leaf_blight_(Isariopsis_Leaf_Spot) ...\n",
            "[INFO] Processing Tomato___Leaf_Mold ...\n",
            "[INFO] Processing Orange___Haunglongbing_(Citrus_greening) ...\n",
            "[INFO] Processing Cherry_(including_sour)___Powdery_mildew ...\n",
            "[INFO] Processing Pepper,_bell___healthy ...\n",
            "[INFO] Processing Apple___Cedar_apple_rust ...\n",
            "[INFO] Processing Grape___healthy ...\n",
            "[INFO] Processing Tomato___Early_blight ...\n",
            "[INFO] Processing Tomato___Bacterial_spot ...\n",
            "[INFO] Processing Tomato___Tomato_mosaic_virus ...\n",
            "[INFO] Processing Apple___Apple_scab ...\n",
            "[INFO] Processing Tomato___Tomato_Yellow_Leaf_Curl_Virus ...\n",
            "[INFO] Processing Grape___Esca_(Black_Measles) ...\n",
            "[INFO] Processing Corn_(maize)___Common_rust_ ...\n",
            "[INFO] Processing Corn_(maize)___Northern_Leaf_Blight ...\n",
            "[INFO] Processing Tomato___Spider_mites Two-spotted_spider_mite ...\n",
            "[INFO] Processing Peach___Bacterial_spot ...\n",
            "[INFO] Processing Cherry_(including_sour)___healthy ...\n",
            "[INFO] Processing Raspberry___healthy ...\n",
            "[INFO] Processing Tomato___healthy ...\n",
            "[INFO] Processing Pepper,_bell___Bacterial_spot ...\n",
            "[INFO] Processing Squash___Powdery_mildew ...\n",
            "[INFO] Processing Strawberry___Leaf_scorch ...\n",
            "[INFO] Processing Corn_(maize)___Cercospora_leaf_spot Gray_leaf_spot ...\n",
            "[INFO] Processing Apple___Black_rot ...\n",
            "[INFO] Processing Potato___healthy ...\n",
            "[INFO] Processing Tomato___Septoria_leaf_spot ...\n",
            "[INFO] Processing Apple___healthy ...\n",
            "[INFO] Processing Soybean___healthy ...\n",
            "[INFO] Processing background ...\n",
            "[INFO] Image loading completed\n"
          ],
          "name": "stdout"
        }
      ]
    },
    {
      "cell_type": "code",
      "metadata": {
        "id": "SCbpvO23zQ0A",
        "colab_type": "code",
        "colab": {}
      },
      "source": [
        "#Get Size of Processed Image\n",
        "\n",
        "image_size = len(image_list)"
      ],
      "execution_count": 0,
      "outputs": []
    },
    {
      "cell_type": "markdown",
      "metadata": {
        "id": "HjniNirfbAp4",
        "colab_type": "text"
      },
      "source": [
        "**Transform Image Labels uisng Scikit Learn's LabelBinarizer**"
      ]
    },
    {
      "cell_type": "code",
      "metadata": {
        "id": "m1WOpoXIzQ3b",
        "colab_type": "code",
        "colab": {}
      },
      "source": [
        "label_binarizer = LabelBinarizer()\n",
        "image_labels = label_binarizer.fit_transform(label_list)\n",
        "pickle.dump(label_binarizer,open('label_transform.pkl', 'wb'))\n",
        "n_classes = len(label_binarizer.classes_)"
      ],
      "execution_count": 0,
      "outputs": []
    },
    {
      "cell_type": "code",
      "metadata": {
        "id": "Kmdk0sm8zQ6E",
        "colab_type": "code",
        "colab": {
          "base_uri": "https://localhost:8080/",
          "height": 347
        },
        "outputId": "71f5f711-a8cc-4177-fa1b-58950884409e"
      },
      "source": [
        "print(label_binarizer.classes_)"
      ],
      "execution_count": 9,
      "outputs": [
        {
          "output_type": "stream",
          "text": [
            "['Apple___Apple_scab' 'Apple___Black_rot' 'Apple___Cedar_apple_rust'\n",
            " 'Apple___healthy' 'Blueberry___healthy'\n",
            " 'Cherry_(including_sour)___Powdery_mildew'\n",
            " 'Cherry_(including_sour)___healthy'\n",
            " 'Corn_(maize)___Cercospora_leaf_spot Gray_leaf_spot'\n",
            " 'Corn_(maize)___Common_rust_' 'Corn_(maize)___Northern_Leaf_Blight'\n",
            " 'Corn_(maize)___healthy' 'Grape___Black_rot'\n",
            " 'Grape___Esca_(Black_Measles)'\n",
            " 'Grape___Leaf_blight_(Isariopsis_Leaf_Spot)' 'Grape___healthy'\n",
            " 'Orange___Haunglongbing_(Citrus_greening)' 'Peach___Bacterial_spot'\n",
            " 'Peach___healthy' 'Pepper,_bell___Bacterial_spot'\n",
            " 'Pepper,_bell___healthy' 'Potato___Early_blight' 'Potato___Late_blight'\n",
            " 'Potato___healthy' 'Raspberry___healthy' 'Soybean___healthy'\n",
            " 'Squash___Powdery_mildew' 'Strawberry___Leaf_scorch'\n",
            " 'Strawberry___healthy' 'Tomato___Bacterial_spot' 'Tomato___Early_blight'\n",
            " 'Tomato___Late_blight' 'Tomato___Leaf_Mold' 'Tomato___Septoria_leaf_spot'\n",
            " 'Tomato___Spider_mites Two-spotted_spider_mite' 'Tomato___Target_Spot'\n",
            " 'Tomato___Tomato_Yellow_Leaf_Curl_Virus' 'Tomato___Tomato_mosaic_virus'\n",
            " 'Tomato___healthy' 'background']\n"
          ],
          "name": "stdout"
        }
      ]
    },
    {
      "cell_type": "code",
      "metadata": {
        "id": "Gs5gRDAczakc",
        "colab_type": "code",
        "colab": {}
      },
      "source": [
        "np_image_list = np.array(image_list, dtype=np.float16) / 225.0"
      ],
      "execution_count": 0,
      "outputs": []
    },
    {
      "cell_type": "code",
      "metadata": {
        "id": "bekW_SP8zaq4",
        "colab_type": "code",
        "colab": {
          "base_uri": "https://localhost:8080/",
          "height": 34
        },
        "outputId": "df7f2a2b-1a9d-4b5f-c9a7-5f0e13dadd30"
      },
      "source": [
        "print(\"[INFO] Spliting data to train, test\")\n",
        "x_train, x_test, y_train, y_test = train_test_split(np_image_list, image_labels, test_size=0.2, random_state = 42) "
      ],
      "execution_count": 11,
      "outputs": [
        {
          "output_type": "stream",
          "text": [
            "[INFO] Spliting data to train, test\n"
          ],
          "name": "stdout"
        }
      ]
    },
    {
      "cell_type": "code",
      "metadata": {
        "id": "kASRTADPzax5",
        "colab_type": "code",
        "colab": {}
      },
      "source": [
        "aug = ImageDataGenerator(\n",
        "    rotation_range=25, width_shift_range=0.1,\n",
        "    height_shift_range=0.1, shear_range=0.2, \n",
        "    zoom_range=0.2,horizontal_flip=True, \n",
        "    fill_mode=\"nearest\")"
      ],
      "execution_count": 0,
      "outputs": []
    },
    {
      "cell_type": "markdown",
      "metadata": {
        "id": "wrht3lHebYtM",
        "colab_type": "text"
      },
      "source": [
        "**Model Summary**"
      ]
    },
    {
      "cell_type": "code",
      "metadata": {
        "id": "a8lYtznyzgwJ",
        "colab_type": "code",
        "colab": {
          "base_uri": "https://localhost:8080/",
          "height": 350
        },
        "outputId": "39b2b315-441c-45a3-e52a-5402af236ac2"
      },
      "source": [
        "model = Sequential()\n",
        "inputShape = (height, width, depth)\n",
        "chanDim = -1\n",
        "if K.image_data_format() == \"channels_first\":\n",
        "    inputShape = (depth, height, width)\n",
        "    chanDim = 1\n",
        "model.add(Conv2D(32, (3, 3), padding=\"same\",input_shape=inputShape))\n",
        "model.add(Activation(\"relu\"))\n",
        "model.add(BatchNormalization(axis=chanDim))\n",
        "model.add(MaxPooling2D(pool_size=(3, 3)))\n",
        "model.add(Dropout(0.25))\n",
        "model.add(Conv2D(64, (3, 3), padding=\"same\"))\n",
        "model.add(Activation(\"relu\"))\n",
        "model.add(BatchNormalization(axis=chanDim))\n",
        "model.add(Conv2D(64, (3, 3), padding=\"same\"))\n",
        "model.add(Activation(\"relu\"))\n",
        "model.add(BatchNormalization(axis=chanDim))\n",
        "model.add(MaxPooling2D(pool_size=(2, 2)))\n",
        "model.add(Dropout(0.25))\n",
        "model.add(Conv2D(128, (3, 3), padding=\"same\"))\n",
        "model.add(Activation(\"relu\"))\n",
        "model.add(BatchNormalization(axis=chanDim))\n",
        "model.add(Conv2D(128, (3, 3), padding=\"same\"))\n",
        "model.add(Activation(\"relu\"))\n",
        "model.add(BatchNormalization(axis=chanDim))\n",
        "model.add(MaxPooling2D(pool_size=(2, 2)))\n",
        "model.add(Dropout(0.25))\n",
        "model.add(Flatten())\n",
        "model.add(Dense(1024))\n",
        "model.add(Activation(\"relu\"))\n",
        "model.add(BatchNormalization())\n",
        "model.add(Dropout(0.5))\n",
        "model.add(Dense(n_classes))\n",
        "model.add(Activation(\"softmax\"))"
      ],
      "execution_count": 13,
      "outputs": [
        {
          "output_type": "stream",
          "text": [
            "WARNING: Logging before flag parsing goes to stderr.\n",
            "W0720 04:02:10.736469 140539376510848 deprecation_wrapper.py:119] From /usr/local/lib/python3.6/dist-packages/keras/backend/tensorflow_backend.py:74: The name tf.get_default_graph is deprecated. Please use tf.compat.v1.get_default_graph instead.\n",
            "\n",
            "W0720 04:02:10.771243 140539376510848 deprecation_wrapper.py:119] From /usr/local/lib/python3.6/dist-packages/keras/backend/tensorflow_backend.py:517: The name tf.placeholder is deprecated. Please use tf.compat.v1.placeholder instead.\n",
            "\n",
            "W0720 04:02:10.777091 140539376510848 deprecation_wrapper.py:119] From /usr/local/lib/python3.6/dist-packages/keras/backend/tensorflow_backend.py:4138: The name tf.random_uniform is deprecated. Please use tf.random.uniform instead.\n",
            "\n",
            "W0720 04:02:10.821855 140539376510848 deprecation_wrapper.py:119] From /usr/local/lib/python3.6/dist-packages/keras/backend/tensorflow_backend.py:174: The name tf.get_default_session is deprecated. Please use tf.compat.v1.get_default_session instead.\n",
            "\n",
            "W0720 04:02:10.823012 140539376510848 deprecation_wrapper.py:119] From /usr/local/lib/python3.6/dist-packages/keras/backend/tensorflow_backend.py:181: The name tf.ConfigProto is deprecated. Please use tf.compat.v1.ConfigProto instead.\n",
            "\n",
            "W0720 04:02:13.914005 140539376510848 deprecation_wrapper.py:119] From /usr/local/lib/python3.6/dist-packages/keras/backend/tensorflow_backend.py:1834: The name tf.nn.fused_batch_norm is deprecated. Please use tf.compat.v1.nn.fused_batch_norm instead.\n",
            "\n",
            "W0720 04:02:13.978991 140539376510848 deprecation_wrapper.py:119] From /usr/local/lib/python3.6/dist-packages/keras/backend/tensorflow_backend.py:3976: The name tf.nn.max_pool is deprecated. Please use tf.nn.max_pool2d instead.\n",
            "\n",
            "W0720 04:02:13.986167 140539376510848 deprecation.py:506] From /usr/local/lib/python3.6/dist-packages/keras/backend/tensorflow_backend.py:3445: calling dropout (from tensorflow.python.ops.nn_ops) with keep_prob is deprecated and will be removed in a future version.\n",
            "Instructions for updating:\n",
            "Please use `rate` instead of `keep_prob`. Rate should be set to `rate = 1 - keep_prob`.\n"
          ],
          "name": "stderr"
        }
      ]
    },
    {
      "cell_type": "code",
      "metadata": {
        "id": "15TCJ2E9zgys",
        "colab_type": "code",
        "colab": {
          "base_uri": "https://localhost:8080/",
          "height": 141
        },
        "outputId": "aef1e7d7-74a5-46b2-e5fe-9dd1a676bcad"
      },
      "source": [
        "opt = Adam(lr=INIT_LR, decay=INIT_LR / EPOCHS)\n",
        "# distribution\n",
        "model.compile(loss=\"binary_crossentropy\", optimizer=opt,metrics=[\"accuracy\"])\n",
        "# train the network\n",
        "print(\"[INFO] training network...\")"
      ],
      "execution_count": 14,
      "outputs": [
        {
          "output_type": "stream",
          "text": [
            "W0720 04:02:14.501266 140539376510848 deprecation_wrapper.py:119] From /usr/local/lib/python3.6/dist-packages/keras/optimizers.py:790: The name tf.train.Optimizer is deprecated. Please use tf.compat.v1.train.Optimizer instead.\n",
            "\n",
            "W0720 04:02:14.510864 140539376510848 deprecation.py:323] From /usr/local/lib/python3.6/dist-packages/tensorflow/python/ops/nn_impl.py:180: add_dispatch_support.<locals>.wrapper (from tensorflow.python.ops.array_ops) is deprecated and will be removed in a future version.\n",
            "Instructions for updating:\n",
            "Use tf.where in 2.0, which has the same broadcast rule as np.where\n"
          ],
          "name": "stderr"
        },
        {
          "output_type": "stream",
          "text": [
            "[INFO] training network...\n"
          ],
          "name": "stdout"
        }
      ]
    },
    {
      "cell_type": "code",
      "metadata": {
        "id": "bLhuFqPHzg1O",
        "colab_type": "code",
        "colab": {
          "base_uri": "https://localhost:8080/",
          "height": 905
        },
        "outputId": "92a9b304-f68a-44df-fa52-965be22a8444"
      },
      "source": [
        "history = model.fit_generator(\n",
        "    aug.flow(x_train, y_train, batch_size=BS),\n",
        "    validation_data=(x_test, y_test),\n",
        "    steps_per_epoch=len(x_train) // BS,\n",
        "    epochs=EPOCHS, verbose=1)"
      ],
      "execution_count": 15,
      "outputs": [
        {
          "output_type": "stream",
          "text": [
            "Epoch 1/25\n",
            "189/189 [==============================] - 80s 426ms/step - loss: 0.0924 - acc: 0.9740 - val_loss: 0.3922 - val_acc: 0.9585\n",
            "Epoch 2/25\n",
            "189/189 [==============================] - 75s 399ms/step - loss: 0.0734 - acc: 0.9773 - val_loss: 0.4253 - val_acc: 0.9555\n",
            "Epoch 3/25\n",
            "189/189 [==============================] - 73s 386ms/step - loss: 0.0588 - acc: 0.9806 - val_loss: 0.1596 - val_acc: 0.9679\n",
            "Epoch 4/25\n",
            "189/189 [==============================] - 70s 370ms/step - loss: 0.0498 - acc: 0.9828 - val_loss: 0.0554 - val_acc: 0.9825\n",
            "Epoch 5/25\n",
            "189/189 [==============================] - 70s 370ms/step - loss: 0.0431 - acc: 0.9849 - val_loss: 0.0743 - val_acc: 0.9805\n",
            "Epoch 6/25\n",
            "189/189 [==============================] - 70s 372ms/step - loss: 0.0394 - acc: 0.9861 - val_loss: 0.1228 - val_acc: 0.9702\n",
            "Epoch 7/25\n",
            "189/189 [==============================] - 71s 377ms/step - loss: 0.0376 - acc: 0.9865 - val_loss: 0.2229 - val_acc: 0.9671\n",
            "Epoch 8/25\n",
            "189/189 [==============================] - 70s 373ms/step - loss: 0.0333 - acc: 0.9882 - val_loss: 0.0423 - val_acc: 0.9859\n",
            "Epoch 9/25\n",
            "189/189 [==============================] - 71s 373ms/step - loss: 0.0309 - acc: 0.9889 - val_loss: 0.0787 - val_acc: 0.9799\n",
            "Epoch 10/25\n",
            "189/189 [==============================] - 71s 377ms/step - loss: 0.0292 - acc: 0.9895 - val_loss: 0.0345 - val_acc: 0.9893\n",
            "Epoch 11/25\n",
            "189/189 [==============================] - 71s 375ms/step - loss: 0.0305 - acc: 0.9893 - val_loss: 0.0694 - val_acc: 0.9802\n",
            "Epoch 12/25\n",
            "189/189 [==============================] - 71s 374ms/step - loss: 0.0297 - acc: 0.9893 - val_loss: 0.1441 - val_acc: 0.9720\n",
            "Epoch 13/25\n",
            "189/189 [==============================] - 70s 373ms/step - loss: 0.0254 - acc: 0.9909 - val_loss: 0.0908 - val_acc: 0.9788\n",
            "Epoch 14/25\n",
            "189/189 [==============================] - 71s 376ms/step - loss: 0.0370 - acc: 0.9874 - val_loss: 0.0689 - val_acc: 0.9807\n",
            "Epoch 15/25\n",
            "189/189 [==============================] - 72s 382ms/step - loss: 0.0274 - acc: 0.9902 - val_loss: 0.1438 - val_acc: 0.9704\n",
            "Epoch 16/25\n",
            "189/189 [==============================] - 70s 373ms/step - loss: 0.0233 - acc: 0.9915 - val_loss: 0.1271 - val_acc: 0.9754\n",
            "Epoch 17/25\n",
            "189/189 [==============================] - 70s 372ms/step - loss: 0.0194 - acc: 0.9930 - val_loss: 0.0444 - val_acc: 0.9870\n",
            "Epoch 18/25\n",
            "189/189 [==============================] - 70s 373ms/step - loss: 0.0215 - acc: 0.9923 - val_loss: 0.0549 - val_acc: 0.9836\n",
            "Epoch 19/25\n",
            "189/189 [==============================] - 70s 368ms/step - loss: 0.0209 - acc: 0.9925 - val_loss: 0.2149 - val_acc: 0.9663\n",
            "Epoch 20/25\n",
            "189/189 [==============================] - 69s 367ms/step - loss: 0.0216 - acc: 0.9922 - val_loss: 0.1207 - val_acc: 0.9792\n",
            "Epoch 21/25\n",
            "189/189 [==============================] - 70s 371ms/step - loss: 0.0178 - acc: 0.9935 - val_loss: 0.0330 - val_acc: 0.9904\n",
            "Epoch 22/25\n",
            "189/189 [==============================] - 71s 374ms/step - loss: 0.0170 - acc: 0.9940 - val_loss: 0.1554 - val_acc: 0.9733\n",
            "Epoch 23/25\n",
            "189/189 [==============================] - 71s 375ms/step - loss: 0.0163 - acc: 0.9941 - val_loss: 0.0307 - val_acc: 0.9904\n",
            "Epoch 24/25\n",
            "189/189 [==============================] - 70s 372ms/step - loss: 0.0152 - acc: 0.9945 - val_loss: 0.1044 - val_acc: 0.9789\n",
            "Epoch 25/25\n",
            "189/189 [==============================] - 71s 375ms/step - loss: 0.0150 - acc: 0.9945 - val_loss: 0.0740 - val_acc: 0.9841\n"
          ],
          "name": "stdout"
        }
      ]
    },
    {
      "cell_type": "markdown",
      "metadata": {
        "id": "i8tzjzjLbmdH",
        "colab_type": "text"
      },
      "source": [
        "**Plot the train and val curve **"
      ]
    },
    {
      "cell_type": "code",
      "metadata": {
        "id": "2Nqv4acNza5P",
        "colab_type": "code",
        "colab": {
          "base_uri": "https://localhost:8080/",
          "height": 545
        },
        "outputId": "fb3f98bc-7e80-44d7-c999-36992d11080a"
      },
      "source": [
        "acc = history.history['acc']\n",
        "val_acc = history.history['val_acc']\n",
        "loss = history.history['loss']\n",
        "val_loss = history.history['val_loss']\n",
        "epochs = range(1, len(acc) + 1)\n",
        "\n",
        "#Train and validation accuracy\n",
        "plt.plot(epochs, acc, 'b', label='Training accurarcy')\n",
        "plt.plot(epochs, val_acc, 'r', label='Validation accurarcy')\n",
        "plt.title('Training and Validation accurarcy')\n",
        "plt.legend()\n",
        "\n",
        "plt.figure()\n",
        "#Train and validation loss\n",
        "plt.plot(epochs, loss, 'b', label='Training loss')\n",
        "plt.plot(epochs, val_loss, 'r', label='Validation loss')\n",
        "plt.title('Training and Validation loss')\n",
        "plt.legend()\n",
        "plt.show()"
      ],
      "execution_count": 16,
      "outputs": [
        {
          "output_type": "display_data",
          "data": {
            "image/png": "[encoded data removed]",
            "text/plain": [
              "<Figure size 432x288 with 1 Axes>"
            ]
          },
          "metadata": {
            "tags": []
          }
        },
        {
          "output_type": "display_data",
          "data": {
            "image/png": "[encoded data removed]",
            "text/plain": [
              "<Figure size 432x288 with 1 Axes>"
            ]
          },
          "metadata": {
            "tags": []
          }
        }
      ]
    },
    {
      "cell_type": "markdown",
      "metadata": {
        "id": "2qgQbyFyb96g",
        "colab_type": "text"
      },
      "source": [
        "\n",
        "**Model Accuracy**"
      ]
    },
    {
      "cell_type": "code",
      "metadata": {
        "id": "b4Q9LmkhH_RS",
        "colab_type": "code",
        "colab": {
          "base_uri": "https://localhost:8080/",
          "height": 69
        },
        "outputId": "a5d6d0d2-383c-421a-d9c9-72b1bc4b251a"
      },
      "source": [
        "print(\"[INFO] Calculating model accuracy\")\n",
        "scores = model.evaluate(x_test, y_test)\n",
        "print(f\"Test Accuracy: {scores[1]*100}\")"
      ],
      "execution_count": 17,
      "outputs": [
        {
          "output_type": "stream",
          "text": [
            "[INFO] Calculating model accuracy\n",
            "1517/1517 [==============================] - 3s 2ms/step\n",
            "Test Accuracy: 98.40609979378053\n"
          ],
          "name": "stdout"
        }
      ]
    },
    {
      "cell_type": "markdown",
      "metadata": {
        "id": "sfo-7hhccFuT",
        "colab_type": "text"
      },
      "source": [
        "\n",
        "\n",
        "Save model using Pickle\n"
      ]
    },
    {
      "cell_type": "code",
      "metadata": {
        "id": "pXcIzfutH_Uq",
        "colab_type": "code",
        "colab": {
          "base_uri": "https://localhost:8080/",
          "height": 52
        },
        "outputId": "357735e5-78c7-4a28-d267-7a016427892b"
      },
      "source": [
        "# save the model to disk\n",
        "\n",
        "model.save(\"model.h5\")\n",
        "print(\"[INFO] Saving model...\")\n",
        "print(\"Saved model to disk\")\n",
        "#pickle.dump(model,open('cnn_model.pkl', 'wb'))"
      ],
      "execution_count": 18,
      "outputs": [
        {
          "output_type": "stream",
          "text": [
            "[INFO] Saving model...\n",
            "Saved model to disk\n"
          ],
          "name": "stdout"
        }
      ]
    },
    {
      "cell_type": "code",
      "metadata": {
        "id": "r96wwOR1a1W5",
        "colab_type": "code",
        "colab": {}
      },
      "source": [
        "outfile = open('cnn_model.pkl','wb')"
      ],
      "execution_count": 0,
      "outputs": []
    },
    {
      "cell_type": "code",
      "metadata": {
        "id": "0eT58WSbZztA",
        "colab_type": "code",
        "colab": {}
      },
      "source": [
        "pickle.dump('cnn_model',outfile)\n",
        "outfile.close()"
      ],
      "execution_count": 0,
      "outputs": []
    }
  ]
}